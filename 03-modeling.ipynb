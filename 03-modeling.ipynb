{
 "cells": [
  {
   "cell_type": "markdown",
   "id": "ordered-coordinate",
   "metadata": {},
   "source": [
    "# Training\n",
    "In this notebook I train some models"
   ]
  },
  {
   "cell_type": "markdown",
   "id": "minute-kelly",
   "metadata": {},
   "source": [
    "### Import Things"
   ]
  },
  {
   "cell_type": "code",
   "execution_count": 1,
   "id": "renewable-graham",
   "metadata": {},
   "outputs": [],
   "source": [
    "import numpy as np\n",
    "import pandas as pd\n",
    "import matplotlib.pyplot as plt\n",
    "\n",
    "from sklearn.linear_model import LogisticRegression\n",
    "from sklearn.model_selection import train_test_split, GridSearchCV\n",
    "from sklearn.feature_extraction.text import TfidfVectorizer\n",
    "from sklearn.ensemble import RandomForestClassifier, GradientBoostingClassifier\n",
    "from sklearn.tree import DecisionTreeClassifier\n",
    "from sklearn import metrics"
   ]
  },
  {
   "cell_type": "code",
   "execution_count": 2,
   "id": "generous-tutorial",
   "metadata": {},
   "outputs": [
    {
     "data": {
      "text/html": [
       "<div>\n",
       "<style scoped>\n",
       "    .dataframe tbody tr th:only-of-type {\n",
       "        vertical-align: middle;\n",
       "    }\n",
       "\n",
       "    .dataframe tbody tr th {\n",
       "        vertical-align: top;\n",
       "    }\n",
       "\n",
       "    .dataframe thead th {\n",
       "        text-align: right;\n",
       "    }\n",
       "</style>\n",
       "<table border=\"1\" class=\"dataframe\">\n",
       "  <thead>\n",
       "    <tr style=\"text-align: right;\">\n",
       "      <th></th>\n",
       "      <th>subreddit</th>\n",
       "      <th>title</th>\n",
       "      <th>is_world_news</th>\n",
       "      <th>title_len</th>\n",
       "      <th>title_wordcount</th>\n",
       "    </tr>\n",
       "  </thead>\n",
       "  <tbody>\n",
       "    <tr>\n",
       "      <th>0</th>\n",
       "      <td>worldnews</td>\n",
       "      <td>xiaomi corporation has sued the united states ...</td>\n",
       "      <td>1</td>\n",
       "      <td>94</td>\n",
       "      <td>16</td>\n",
       "    </tr>\n",
       "    <tr>\n",
       "      <th>1</th>\n",
       "      <td>worldnews</td>\n",
       "      <td>joe bidens administration doesnt trust boris j...</td>\n",
       "      <td>1</td>\n",
       "      <td>81</td>\n",
       "      <td>13</td>\n",
       "    </tr>\n",
       "    <tr>\n",
       "      <th>2</th>\n",
       "      <td>worldnews</td>\n",
       "      <td>to discredit navalny protesters russia spreads...</td>\n",
       "      <td>1</td>\n",
       "      <td>79</td>\n",
       "      <td>11</td>\n",
       "    </tr>\n",
       "    <tr>\n",
       "      <th>3</th>\n",
       "      <td>worldnews</td>\n",
       "      <td>ethiopia moves artillery to sudanese border af...</td>\n",
       "      <td>1</td>\n",
       "      <td>64</td>\n",
       "      <td>9</td>\n",
       "    </tr>\n",
       "    <tr>\n",
       "      <th>4</th>\n",
       "      <td>worldnews</td>\n",
       "      <td>putins former judo partner says he owns palace...</td>\n",
       "      <td>1</td>\n",
       "      <td>87</td>\n",
       "      <td>14</td>\n",
       "    </tr>\n",
       "  </tbody>\n",
       "</table>\n",
       "</div>"
      ],
      "text/plain": [
       "   subreddit                                              title  \\\n",
       "0  worldnews  xiaomi corporation has sued the united states ...   \n",
       "1  worldnews  joe bidens administration doesnt trust boris j...   \n",
       "2  worldnews  to discredit navalny protesters russia spreads...   \n",
       "3  worldnews  ethiopia moves artillery to sudanese border af...   \n",
       "4  worldnews  putins former judo partner says he owns palace...   \n",
       "\n",
       "   is_world_news  title_len  title_wordcount  \n",
       "0              1         94               16  \n",
       "1              1         81               13  \n",
       "2              1         79               11  \n",
       "3              1         64                9  \n",
       "4              1         87               14  "
      ]
     },
     "execution_count": 2,
     "metadata": {},
     "output_type": "execute_result"
    }
   ],
   "source": [
    "df = pd.read_csv('./training2.csv')\n",
    "df.head()"
   ]
  },
  {
   "cell_type": "markdown",
   "id": "nominated-showcase",
   "metadata": {},
   "source": [
    "### Make training and testing sets"
   ]
  },
  {
   "cell_type": "code",
   "execution_count": 3,
   "id": "spread-beginning",
   "metadata": {},
   "outputs": [
    {
     "data": {
      "text/plain": [
       "0    0.505957\n",
       "1    0.494043\n",
       "Name: is_world_news, dtype: float64"
      ]
     },
     "execution_count": 3,
     "metadata": {},
     "output_type": "execute_result"
    }
   ],
   "source": [
    "X = df['title']\n",
    "y = df['is_world_news']\n",
    "\n",
    "#check if classes are balanced\n",
    "#The class that has a higher percentage is also the baseline.\n",
    "y.value_counts(normalize=True)"
   ]
  },
  {
   "cell_type": "code",
   "execution_count": 42,
   "id": "destroyed-peripheral",
   "metadata": {},
   "outputs": [
    {
     "name": "stdout",
     "output_type": "stream",
     "text": [
      "Wall time: 998 µs\n"
     ]
    },
    {
     "data": {
      "text/plain": [
       "0    0.505957\n",
       "1    0.494043\n",
       "Name: is_world_news, dtype: float64"
      ]
     },
     "execution_count": 42,
     "metadata": {},
     "output_type": "execute_result"
    }
   ],
   "source": [
    "%%time\n",
    "y.value_counts(normalize=True)"
   ]
  },
  {
   "cell_type": "markdown",
   "id": "international-backing",
   "metadata": {},
   "source": [
    "The baseline accuracy is 50.59%. If I were to just guess every single post was from the world news subreddit, I would be 50.59% correct."
   ]
  },
  {
   "cell_type": "code",
   "execution_count": 4,
   "id": "exceptional-tucson",
   "metadata": {},
   "outputs": [],
   "source": [
    "#stratifying because the classes are slightly not balanced\n",
    "X_train, X_test, y_train, y_test = train_test_split(X, y, stratify=y)"
   ]
  },
  {
   "cell_type": "code",
   "execution_count": 5,
   "id": "activated-compiler",
   "metadata": {},
   "outputs": [],
   "source": [
    "cv = TfidfVectorizer(stop_words='english')\n",
    "X_train_cv = pd.DataFrame(cv.fit_transform(X_train).todense(), columns=cv.get_feature_names())\n",
    "X_test_cv = pd.DataFrame(cv.transform(X_test).todense(), columns=cv.get_feature_names())"
   ]
  },
  {
   "cell_type": "code",
   "execution_count": 6,
   "id": "returning-placement",
   "metadata": {},
   "outputs": [
    {
     "data": {
      "text/html": [
       "<div>\n",
       "<style scoped>\n",
       "    .dataframe tbody tr th:only-of-type {\n",
       "        vertical-align: middle;\n",
       "    }\n",
       "\n",
       "    .dataframe tbody tr th {\n",
       "        vertical-align: top;\n",
       "    }\n",
       "\n",
       "    .dataframe thead th {\n",
       "        text-align: right;\n",
       "    }\n",
       "</style>\n",
       "<table border=\"1\" class=\"dataframe\">\n",
       "  <thead>\n",
       "    <tr style=\"text-align: right;\">\n",
       "      <th></th>\n",
       "      <th>000</th>\n",
       "      <th>0015</th>\n",
       "      <th>004</th>\n",
       "      <th>007</th>\n",
       "      <th>007s</th>\n",
       "      <th>008</th>\n",
       "      <th>01</th>\n",
       "      <th>012021</th>\n",
       "      <th>01232021</th>\n",
       "      <th>02</th>\n",
       "      <th>...</th>\n",
       "      <th>zosta</th>\n",
       "      <th>zu</th>\n",
       "      <th>zuckerberg</th>\n",
       "      <th>zulfikar</th>\n",
       "      <th>zulu</th>\n",
       "      <th>zum</th>\n",
       "      <th>zurer</th>\n",
       "      <th>zusammenstellen</th>\n",
       "      <th>zwikszy</th>\n",
       "      <th>zymo</th>\n",
       "    </tr>\n",
       "  </thead>\n",
       "  <tbody>\n",
       "    <tr>\n",
       "      <th>0</th>\n",
       "      <td>0.0</td>\n",
       "      <td>0.0</td>\n",
       "      <td>0.0</td>\n",
       "      <td>0.0</td>\n",
       "      <td>0.0</td>\n",
       "      <td>0.0</td>\n",
       "      <td>0.0</td>\n",
       "      <td>0.0</td>\n",
       "      <td>0.0</td>\n",
       "      <td>0.0</td>\n",
       "      <td>...</td>\n",
       "      <td>0.0</td>\n",
       "      <td>0.0</td>\n",
       "      <td>0.0</td>\n",
       "      <td>0.0</td>\n",
       "      <td>0.0</td>\n",
       "      <td>0.0</td>\n",
       "      <td>0.0</td>\n",
       "      <td>0.0</td>\n",
       "      <td>0.0</td>\n",
       "      <td>0.0</td>\n",
       "    </tr>\n",
       "    <tr>\n",
       "      <th>1</th>\n",
       "      <td>0.0</td>\n",
       "      <td>0.0</td>\n",
       "      <td>0.0</td>\n",
       "      <td>0.0</td>\n",
       "      <td>0.0</td>\n",
       "      <td>0.0</td>\n",
       "      <td>0.0</td>\n",
       "      <td>0.0</td>\n",
       "      <td>0.0</td>\n",
       "      <td>0.0</td>\n",
       "      <td>...</td>\n",
       "      <td>0.0</td>\n",
       "      <td>0.0</td>\n",
       "      <td>0.0</td>\n",
       "      <td>0.0</td>\n",
       "      <td>0.0</td>\n",
       "      <td>0.0</td>\n",
       "      <td>0.0</td>\n",
       "      <td>0.0</td>\n",
       "      <td>0.0</td>\n",
       "      <td>0.0</td>\n",
       "    </tr>\n",
       "    <tr>\n",
       "      <th>2</th>\n",
       "      <td>0.0</td>\n",
       "      <td>0.0</td>\n",
       "      <td>0.0</td>\n",
       "      <td>0.0</td>\n",
       "      <td>0.0</td>\n",
       "      <td>0.0</td>\n",
       "      <td>0.0</td>\n",
       "      <td>0.0</td>\n",
       "      <td>0.0</td>\n",
       "      <td>0.0</td>\n",
       "      <td>...</td>\n",
       "      <td>0.0</td>\n",
       "      <td>0.0</td>\n",
       "      <td>0.0</td>\n",
       "      <td>0.0</td>\n",
       "      <td>0.0</td>\n",
       "      <td>0.0</td>\n",
       "      <td>0.0</td>\n",
       "      <td>0.0</td>\n",
       "      <td>0.0</td>\n",
       "      <td>0.0</td>\n",
       "    </tr>\n",
       "    <tr>\n",
       "      <th>3</th>\n",
       "      <td>0.0</td>\n",
       "      <td>0.0</td>\n",
       "      <td>0.0</td>\n",
       "      <td>0.0</td>\n",
       "      <td>0.0</td>\n",
       "      <td>0.0</td>\n",
       "      <td>0.0</td>\n",
       "      <td>0.0</td>\n",
       "      <td>0.0</td>\n",
       "      <td>0.0</td>\n",
       "      <td>...</td>\n",
       "      <td>0.0</td>\n",
       "      <td>0.0</td>\n",
       "      <td>0.0</td>\n",
       "      <td>0.0</td>\n",
       "      <td>0.0</td>\n",
       "      <td>0.0</td>\n",
       "      <td>0.0</td>\n",
       "      <td>0.0</td>\n",
       "      <td>0.0</td>\n",
       "      <td>0.0</td>\n",
       "    </tr>\n",
       "    <tr>\n",
       "      <th>4</th>\n",
       "      <td>0.0</td>\n",
       "      <td>0.0</td>\n",
       "      <td>0.0</td>\n",
       "      <td>0.0</td>\n",
       "      <td>0.0</td>\n",
       "      <td>0.0</td>\n",
       "      <td>0.0</td>\n",
       "      <td>0.0</td>\n",
       "      <td>0.0</td>\n",
       "      <td>0.0</td>\n",
       "      <td>...</td>\n",
       "      <td>0.0</td>\n",
       "      <td>0.0</td>\n",
       "      <td>0.0</td>\n",
       "      <td>0.0</td>\n",
       "      <td>0.0</td>\n",
       "      <td>0.0</td>\n",
       "      <td>0.0</td>\n",
       "      <td>0.0</td>\n",
       "      <td>0.0</td>\n",
       "      <td>0.0</td>\n",
       "    </tr>\n",
       "  </tbody>\n",
       "</table>\n",
       "<p>5 rows × 22842 columns</p>\n",
       "</div>"
      ],
      "text/plain": [
       "   000  0015  004  007  007s  008   01  012021  01232021   02  ...  zosta  \\\n",
       "0  0.0   0.0  0.0  0.0   0.0  0.0  0.0     0.0       0.0  0.0  ...    0.0   \n",
       "1  0.0   0.0  0.0  0.0   0.0  0.0  0.0     0.0       0.0  0.0  ...    0.0   \n",
       "2  0.0   0.0  0.0  0.0   0.0  0.0  0.0     0.0       0.0  0.0  ...    0.0   \n",
       "3  0.0   0.0  0.0  0.0   0.0  0.0  0.0     0.0       0.0  0.0  ...    0.0   \n",
       "4  0.0   0.0  0.0  0.0   0.0  0.0  0.0     0.0       0.0  0.0  ...    0.0   \n",
       "\n",
       "    zu  zuckerberg  zulfikar  zulu  zum  zurer  zusammenstellen  zwikszy  zymo  \n",
       "0  0.0         0.0       0.0   0.0  0.0    0.0              0.0      0.0   0.0  \n",
       "1  0.0         0.0       0.0   0.0  0.0    0.0              0.0      0.0   0.0  \n",
       "2  0.0         0.0       0.0   0.0  0.0    0.0              0.0      0.0   0.0  \n",
       "3  0.0         0.0       0.0   0.0  0.0    0.0              0.0      0.0   0.0  \n",
       "4  0.0         0.0       0.0   0.0  0.0    0.0              0.0      0.0   0.0  \n",
       "\n",
       "[5 rows x 22842 columns]"
      ]
     },
     "execution_count": 6,
     "metadata": {},
     "output_type": "execute_result"
    }
   ],
   "source": [
    "X_train_cv.head()"
   ]
  },
  {
   "cell_type": "code",
   "execution_count": 7,
   "id": "ahead-works",
   "metadata": {},
   "outputs": [
    {
     "data": {
      "text/html": [
       "<div>\n",
       "<style scoped>\n",
       "    .dataframe tbody tr th:only-of-type {\n",
       "        vertical-align: middle;\n",
       "    }\n",
       "\n",
       "    .dataframe tbody tr th {\n",
       "        vertical-align: top;\n",
       "    }\n",
       "\n",
       "    .dataframe thead th {\n",
       "        text-align: right;\n",
       "    }\n",
       "</style>\n",
       "<table border=\"1\" class=\"dataframe\">\n",
       "  <thead>\n",
       "    <tr style=\"text-align: right;\">\n",
       "      <th></th>\n",
       "      <th>000</th>\n",
       "      <th>0015</th>\n",
       "      <th>004</th>\n",
       "      <th>007</th>\n",
       "      <th>007s</th>\n",
       "      <th>008</th>\n",
       "      <th>01</th>\n",
       "      <th>012021</th>\n",
       "      <th>01232021</th>\n",
       "      <th>02</th>\n",
       "      <th>...</th>\n",
       "      <th>zosta</th>\n",
       "      <th>zu</th>\n",
       "      <th>zuckerberg</th>\n",
       "      <th>zulfikar</th>\n",
       "      <th>zulu</th>\n",
       "      <th>zum</th>\n",
       "      <th>zurer</th>\n",
       "      <th>zusammenstellen</th>\n",
       "      <th>zwikszy</th>\n",
       "      <th>zymo</th>\n",
       "    </tr>\n",
       "  </thead>\n",
       "  <tbody>\n",
       "    <tr>\n",
       "      <th>0</th>\n",
       "      <td>0.0</td>\n",
       "      <td>0.0</td>\n",
       "      <td>0.0</td>\n",
       "      <td>0.0</td>\n",
       "      <td>0.0</td>\n",
       "      <td>0.0</td>\n",
       "      <td>0.0</td>\n",
       "      <td>0.0</td>\n",
       "      <td>0.0</td>\n",
       "      <td>0.0</td>\n",
       "      <td>...</td>\n",
       "      <td>0.0</td>\n",
       "      <td>0.0</td>\n",
       "      <td>0.0</td>\n",
       "      <td>0.0</td>\n",
       "      <td>0.0</td>\n",
       "      <td>0.0</td>\n",
       "      <td>0.0</td>\n",
       "      <td>0.0</td>\n",
       "      <td>0.0</td>\n",
       "      <td>0.0</td>\n",
       "    </tr>\n",
       "    <tr>\n",
       "      <th>1</th>\n",
       "      <td>0.0</td>\n",
       "      <td>0.0</td>\n",
       "      <td>0.0</td>\n",
       "      <td>0.0</td>\n",
       "      <td>0.0</td>\n",
       "      <td>0.0</td>\n",
       "      <td>0.0</td>\n",
       "      <td>0.0</td>\n",
       "      <td>0.0</td>\n",
       "      <td>0.0</td>\n",
       "      <td>...</td>\n",
       "      <td>0.0</td>\n",
       "      <td>0.0</td>\n",
       "      <td>0.0</td>\n",
       "      <td>0.0</td>\n",
       "      <td>0.0</td>\n",
       "      <td>0.0</td>\n",
       "      <td>0.0</td>\n",
       "      <td>0.0</td>\n",
       "      <td>0.0</td>\n",
       "      <td>0.0</td>\n",
       "    </tr>\n",
       "    <tr>\n",
       "      <th>2</th>\n",
       "      <td>0.0</td>\n",
       "      <td>0.0</td>\n",
       "      <td>0.0</td>\n",
       "      <td>0.0</td>\n",
       "      <td>0.0</td>\n",
       "      <td>0.0</td>\n",
       "      <td>0.0</td>\n",
       "      <td>0.0</td>\n",
       "      <td>0.0</td>\n",
       "      <td>0.0</td>\n",
       "      <td>...</td>\n",
       "      <td>0.0</td>\n",
       "      <td>0.0</td>\n",
       "      <td>0.0</td>\n",
       "      <td>0.0</td>\n",
       "      <td>0.0</td>\n",
       "      <td>0.0</td>\n",
       "      <td>0.0</td>\n",
       "      <td>0.0</td>\n",
       "      <td>0.0</td>\n",
       "      <td>0.0</td>\n",
       "    </tr>\n",
       "    <tr>\n",
       "      <th>3</th>\n",
       "      <td>0.0</td>\n",
       "      <td>0.0</td>\n",
       "      <td>0.0</td>\n",
       "      <td>0.0</td>\n",
       "      <td>0.0</td>\n",
       "      <td>0.0</td>\n",
       "      <td>0.0</td>\n",
       "      <td>0.0</td>\n",
       "      <td>0.0</td>\n",
       "      <td>0.0</td>\n",
       "      <td>...</td>\n",
       "      <td>0.0</td>\n",
       "      <td>0.0</td>\n",
       "      <td>0.0</td>\n",
       "      <td>0.0</td>\n",
       "      <td>0.0</td>\n",
       "      <td>0.0</td>\n",
       "      <td>0.0</td>\n",
       "      <td>0.0</td>\n",
       "      <td>0.0</td>\n",
       "      <td>0.0</td>\n",
       "    </tr>\n",
       "    <tr>\n",
       "      <th>4</th>\n",
       "      <td>0.0</td>\n",
       "      <td>0.0</td>\n",
       "      <td>0.0</td>\n",
       "      <td>0.0</td>\n",
       "      <td>0.0</td>\n",
       "      <td>0.0</td>\n",
       "      <td>0.0</td>\n",
       "      <td>0.0</td>\n",
       "      <td>0.0</td>\n",
       "      <td>0.0</td>\n",
       "      <td>...</td>\n",
       "      <td>0.0</td>\n",
       "      <td>0.0</td>\n",
       "      <td>0.0</td>\n",
       "      <td>0.0</td>\n",
       "      <td>0.0</td>\n",
       "      <td>0.0</td>\n",
       "      <td>0.0</td>\n",
       "      <td>0.0</td>\n",
       "      <td>0.0</td>\n",
       "      <td>0.0</td>\n",
       "    </tr>\n",
       "  </tbody>\n",
       "</table>\n",
       "<p>5 rows × 22842 columns</p>\n",
       "</div>"
      ],
      "text/plain": [
       "   000  0015  004  007  007s  008   01  012021  01232021   02  ...  zosta  \\\n",
       "0  0.0   0.0  0.0  0.0   0.0  0.0  0.0     0.0       0.0  0.0  ...    0.0   \n",
       "1  0.0   0.0  0.0  0.0   0.0  0.0  0.0     0.0       0.0  0.0  ...    0.0   \n",
       "2  0.0   0.0  0.0  0.0   0.0  0.0  0.0     0.0       0.0  0.0  ...    0.0   \n",
       "3  0.0   0.0  0.0  0.0   0.0  0.0  0.0     0.0       0.0  0.0  ...    0.0   \n",
       "4  0.0   0.0  0.0  0.0   0.0  0.0  0.0     0.0       0.0  0.0  ...    0.0   \n",
       "\n",
       "    zu  zuckerberg  zulfikar  zulu  zum  zurer  zusammenstellen  zwikszy  zymo  \n",
       "0  0.0         0.0       0.0   0.0  0.0    0.0              0.0      0.0   0.0  \n",
       "1  0.0         0.0       0.0   0.0  0.0    0.0              0.0      0.0   0.0  \n",
       "2  0.0         0.0       0.0   0.0  0.0    0.0              0.0      0.0   0.0  \n",
       "3  0.0         0.0       0.0   0.0  0.0    0.0              0.0      0.0   0.0  \n",
       "4  0.0         0.0       0.0   0.0  0.0    0.0              0.0      0.0   0.0  \n",
       "\n",
       "[5 rows x 22842 columns]"
      ]
     },
     "execution_count": 7,
     "metadata": {},
     "output_type": "execute_result"
    }
   ],
   "source": [
    "X_test_cv.head()"
   ]
  },
  {
   "cell_type": "markdown",
   "id": "solved-sweet",
   "metadata": {},
   "source": [
    "### Time to train! (:"
   ]
  },
  {
   "cell_type": "markdown",
   "id": "corresponding-journalist",
   "metadata": {},
   "source": [
    "#### LogisticRegression"
   ]
  },
  {
   "cell_type": "code",
   "execution_count": 8,
   "id": "hearing-moment",
   "metadata": {},
   "outputs": [],
   "source": [
    "logreg = LogisticRegression()"
   ]
  },
  {
   "cell_type": "code",
   "execution_count": 9,
   "id": "proprietary-story",
   "metadata": {},
   "outputs": [
    {
     "name": "stdout",
     "output_type": "stream",
     "text": [
      "Wall time: 18 s\n"
     ]
    },
    {
     "data": {
      "text/plain": [
       "LogisticRegression()"
      ]
     },
     "execution_count": 9,
     "metadata": {},
     "output_type": "execute_result"
    }
   ],
   "source": [
    "%%time\n",
    "logreg.fit(X_train_cv, y_train)"
   ]
  },
  {
   "cell_type": "code",
   "execution_count": 10,
   "id": "amazing-turkey",
   "metadata": {},
   "outputs": [
    {
     "name": "stdout",
     "output_type": "stream",
     "text": [
      "LOGISTIC REGRESSION \n",
      "-------\n",
      "The training accuracy is: 0.9571810239006426\n",
      "The testing accuracy is: 0.901667749620966\n"
     ]
    }
   ],
   "source": [
    "print(f'LOGISTIC REGRESSION \\n-------\\nThe training accuracy is: {logreg.score(X_train_cv, y_train)}\\nThe testing accuracy is: {logreg.score(X_test_cv, y_test)}')"
   ]
  },
  {
   "cell_type": "markdown",
   "id": "junior-wyoming",
   "metadata": {},
   "source": [
    "#### Plot confusion matrix for Logistic Regression:"
   ]
  },
  {
   "cell_type": "code",
   "execution_count": 11,
   "id": "pending-click",
   "metadata": {},
   "outputs": [
    {
     "data": {
      "image/png": "[encoded data removed]",
      "text/plain": [
       "<Figure size 432x288 with 2 Axes>"
      ]
     },
     "metadata": {
      "needs_background": "light"
     },
     "output_type": "display_data"
    }
   ],
   "source": [
    "metrics.plot_confusion_matrix(logreg, X_test_cv, y_test, cmap='Blues', values_format='d', display_labels=['r/history', 'r/worldnews']);"
   ]
  },
  {
   "cell_type": "markdown",
   "id": "august-bronze",
   "metadata": {},
   "source": [
    "### Random Forest"
   ]
  },
  {
   "cell_type": "code",
   "execution_count": 12,
   "id": "sporting-labor",
   "metadata": {},
   "outputs": [],
   "source": [
    "rf = RandomForestClassifier(n_jobs=-1) #n_jobs =-1 to make it faster"
   ]
  },
  {
   "cell_type": "code",
   "execution_count": 13,
   "id": "exclusive-heating",
   "metadata": {},
   "outputs": [
    {
     "name": "stdout",
     "output_type": "stream",
     "text": [
      "Wall time: 3min 16s\n"
     ]
    },
    {
     "data": {
      "text/plain": [
       "RandomForestClassifier(n_jobs=-1)"
      ]
     },
     "execution_count": 13,
     "metadata": {},
     "output_type": "execute_result"
    }
   ],
   "source": [
    "%%time\n",
    "rf.fit(X_train_cv, y_train)"
   ]
  },
  {
   "cell_type": "code",
   "execution_count": 14,
   "id": "nominated-motivation",
   "metadata": {},
   "outputs": [
    {
     "name": "stdout",
     "output_type": "stream",
     "text": [
      "RANDOM FOREST \n",
      "-------\n",
      "The training accuracy is: 0.9994945483428407\n",
      "The testing accuracy is: 0.8745938921377517\n"
     ]
    }
   ],
   "source": [
    "print(f'RANDOM FOREST \\n-------\\nThe training accuracy is: {rf.score(X_train_cv, y_train)}\\nThe testing accuracy is: {rf.score(X_test_cv, y_test)}')"
   ]
  },
  {
   "cell_type": "code",
   "execution_count": 15,
   "id": "another-asian",
   "metadata": {},
   "outputs": [
    {
     "data": {
      "image/png": "[encoded data removed]",
      "text/plain": [
       "<Figure size 432x288 with 2 Axes>"
      ]
     },
     "metadata": {
      "needs_background": "light"
     },
     "output_type": "display_data"
    }
   ],
   "source": [
    "metrics.plot_confusion_matrix(rf, X_test_cv, y_test, cmap='Blues', values_format='d', display_labels=['r/history', 'r/worldnews']);"
   ]
  },
  {
   "cell_type": "code",
   "execution_count": 16,
   "id": "aggregate-traffic",
   "metadata": {},
   "outputs": [
    {
     "name": "stdout",
     "output_type": "stream",
     "text": [
      "Wall time: 33min 11s\n"
     ]
    }
   ],
   "source": [
    "%%time\n",
    "\n",
    "# gridsearching for best hyperparameters because the \n",
    "# default RandomForestClassifier did worse than my LogisticRegression:\n",
    "# params were edited because I ran out of memory\n",
    "params = {\n",
    "    'n_estimators': [75, 100],\n",
    "    'max_depth':[None, 3, 4],\n",
    "    'max_features': ['auto', 4]\n",
    "}\n",
    "\n",
    "grid = GridSearchCV(rf, param_grid = params)\n",
    "grid_rf = grid.fit(X_train_cv, y_train)"
   ]
  },
  {
   "cell_type": "code",
   "execution_count": 25,
   "id": "focal-kernel",
   "metadata": {},
   "outputs": [
    {
     "name": "stdout",
     "output_type": "stream",
     "text": [
      "GRID SEARCH RANDOM FOREST \n",
      "-------\n",
      "The training accuracy is: 0.9994945483428407\n",
      "The testing accuracy is: 0.9027507039202946\n"
     ]
    }
   ],
   "source": [
    "print(f'GRID SEARCH RANDOM FOREST \\n-------\\nThe training accuracy is: {grid_rf.score(X_train_cv, y_train)}\\nThe testing accuracy is: {grid_rf.score(X_test_cv, y_test)}')"
   ]
  },
  {
   "cell_type": "code",
   "execution_count": 18,
   "id": "moral-intensity",
   "metadata": {},
   "outputs": [
    {
     "data": {
      "image/png": "[encoded data removed]",
      "text/plain": [
       "<Figure size 432x288 with 2 Axes>"
      ]
     },
     "metadata": {
      "needs_background": "light"
     },
     "output_type": "display_data"
    }
   ],
   "source": [
    "metrics.plot_confusion_matrix(grid_rf, X_test_cv, y_test, cmap='Blues', values_format='d', display_labels=['r/history', 'r/worldnews']);"
   ]
  },
  {
   "cell_type": "markdown",
   "id": "alpine-counter",
   "metadata": {},
   "source": [
    "### Decision Tree"
   ]
  },
  {
   "cell_type": "code",
   "execution_count": 19,
   "id": "weighted-price",
   "metadata": {},
   "outputs": [],
   "source": [
    "tree = DecisionTreeClassifier()"
   ]
  },
  {
   "cell_type": "code",
   "execution_count": 20,
   "id": "previous-vessel",
   "metadata": {},
   "outputs": [
    {
     "name": "stdout",
     "output_type": "stream",
     "text": [
      "Wall time: 20min 33s\n"
     ]
    },
    {
     "data": {
      "text/plain": [
       "DecisionTreeClassifier()"
      ]
     },
     "execution_count": 20,
     "metadata": {},
     "output_type": "execute_result"
    }
   ],
   "source": [
    "%%time\n",
    "tree.fit(X_train_cv, y_train)"
   ]
  },
  {
   "cell_type": "code",
   "execution_count": 21,
   "id": "sufficient-uncertainty",
   "metadata": {},
   "outputs": [
    {
     "name": "stdout",
     "output_type": "stream",
     "text": [
      "DECISION TREE \n",
      "-------\n",
      "The training accuracy is: 0.9994945483428407\n",
      "The testing accuracy is: 0.8405891271388347\n"
     ]
    }
   ],
   "source": [
    "print(f'DECISION TREE \\n-------\\nThe training accuracy is: {tree.score(X_train_cv, y_train)}\\nThe testing accuracy is: {tree.score(X_test_cv, y_test)}')"
   ]
  },
  {
   "cell_type": "code",
   "execution_count": 22,
   "id": "returning-portrait",
   "metadata": {
    "scrolled": true
   },
   "outputs": [
    {
     "data": {
      "image/png": "[encoded data removed]",
      "text/plain": [
       "<Figure size 432x288 with 2 Axes>"
      ]
     },
     "metadata": {
      "needs_background": "light"
     },
     "output_type": "display_data"
    }
   ],
   "source": [
    "metrics.plot_confusion_matrix(tree, X_test_cv, y_test, cmap='Blues', values_format='d', display_labels=['r/history', 'r/worldnews']);"
   ]
  },
  {
   "cell_type": "markdown",
   "id": "great-andrews",
   "metadata": {},
   "source": [
    "### Gradient Boost"
   ]
  },
  {
   "cell_type": "code",
   "execution_count": 23,
   "id": "fallen-ecology",
   "metadata": {},
   "outputs": [
    {
     "name": "stdout",
     "output_type": "stream",
     "text": [
      "Wall time: 1h 5min 48s\n"
     ]
    },
    {
     "data": {
      "text/plain": [
       "GradientBoostingClassifier()"
      ]
     },
     "execution_count": 23,
     "metadata": {},
     "output_type": "execute_result"
    }
   ],
   "source": [
    "%%time\n",
    "\n",
    "gboost = GradientBoostingClassifier()\n",
    "gboost.fit(X_train_cv, y_train)"
   ]
  },
  {
   "cell_type": "code",
   "execution_count": 24,
   "id": "found-trainer",
   "metadata": {},
   "outputs": [
    {
     "name": "stdout",
     "output_type": "stream",
     "text": [
      "Gradient Boost \n",
      "-------\n",
      "The training accuracy is: 0.7687919705393891\n",
      "The testing accuracy is: 0.754169374052415\n"
     ]
    }
   ],
   "source": [
    "print(f'Gradient Boost \\n-------\\nThe training accuracy is: {gboost.score(X_train_cv, y_train)}\\nThe testing accuracy is: {gboost.score(X_test_cv, y_test)}')"
   ]
  },
  {
   "cell_type": "code",
   "execution_count": 45,
   "id": "active-examination",
   "metadata": {},
   "outputs": [
    {
     "data": {
      "image/png": "[encoded data removed]",
      "text/plain": [
       "<Figure size 432x288 with 2 Axes>"
      ]
     },
     "metadata": {
      "needs_background": "light"
     },
     "output_type": "display_data"
    }
   ],
   "source": [
    "metrics.plot_confusion_matrix(gboost, X_test_cv, y_test, cmap='Blues', values_format='d', display_labels=['r/history', 'r/worldnews']);"
   ]
  },
  {
   "cell_type": "markdown",
   "id": "armed-twist",
   "metadata": {},
   "source": [
    "### Summary"
   ]
  },
  {
   "cell_type": "code",
   "execution_count": 36,
   "id": "broke-coaching",
   "metadata": {},
   "outputs": [],
   "source": [
    "summary = pd.DataFrame()"
   ]
  },
  {
   "cell_type": "code",
   "execution_count": 37,
   "id": "younger-while",
   "metadata": {},
   "outputs": [],
   "source": [
    "summary['models'] = ['baseline', 'logistic regression', 'random forest', 'random forest (grid search)', 'decision tree', 'gradient boost']"
   ]
  },
  {
   "cell_type": "code",
   "execution_count": 38,
   "id": "banner-ballet",
   "metadata": {},
   "outputs": [],
   "source": [
    "summary['training accuracy'] = [y.value_counts(normalize=True)[0], logreg.score(X_train_cv, y_train), rf.score(X_train_cv, y_train), grid_rf.score(X_train_cv, y_train), tree.score(X_train_cv, y_train), gboost.score(X_train_cv, y_train)]"
   ]
  },
  {
   "cell_type": "code",
   "execution_count": 40,
   "id": "accepting-interview",
   "metadata": {},
   "outputs": [],
   "source": [
    "summary['testing accuracy'] = [y.value_counts(normalize=True)[0], logreg.score(X_test_cv, y_test), rf.score(X_test_cv, y_test), grid_rf.score(X_test_cv, y_test), tree.score(X_test_cv, y_test), gboost.score(X_test_cv, y_test)]"
   ]
  },
  {
   "cell_type": "code",
   "execution_count": 43,
   "id": "theoretical-church",
   "metadata": {},
   "outputs": [],
   "source": [
    "summary['time'] = ['998 µs', '18 s', '3min 16s', '33min 11s', '20min 33s', '1h 5min 48s']"
   ]
  },
  {
   "cell_type": "code",
   "execution_count": 44,
   "id": "integrated-salad",
   "metadata": {
    "scrolled": true
   },
   "outputs": [
    {
     "data": {
      "text/html": [
       "<div>\n",
       "<style scoped>\n",
       "    .dataframe tbody tr th:only-of-type {\n",
       "        vertical-align: middle;\n",
       "    }\n",
       "\n",
       "    .dataframe tbody tr th {\n",
       "        vertical-align: top;\n",
       "    }\n",
       "\n",
       "    .dataframe thead th {\n",
       "        text-align: right;\n",
       "    }\n",
       "</style>\n",
       "<table border=\"1\" class=\"dataframe\">\n",
       "  <thead>\n",
       "    <tr style=\"text-align: right;\">\n",
       "      <th></th>\n",
       "      <th>models</th>\n",
       "      <th>training accuracy</th>\n",
       "      <th>testing accuracy</th>\n",
       "      <th>time</th>\n",
       "    </tr>\n",
       "  </thead>\n",
       "  <tbody>\n",
       "    <tr>\n",
       "      <th>0</th>\n",
       "      <td>baseline</td>\n",
       "      <td>0.505957</td>\n",
       "      <td>0.505957</td>\n",
       "      <td>998 µs</td>\n",
       "    </tr>\n",
       "    <tr>\n",
       "      <th>1</th>\n",
       "      <td>logistic regression</td>\n",
       "      <td>0.957181</td>\n",
       "      <td>0.901668</td>\n",
       "      <td>18 s</td>\n",
       "    </tr>\n",
       "    <tr>\n",
       "      <th>2</th>\n",
       "      <td>random forest</td>\n",
       "      <td>0.999495</td>\n",
       "      <td>0.874594</td>\n",
       "      <td>3min 16s</td>\n",
       "    </tr>\n",
       "    <tr>\n",
       "      <th>3</th>\n",
       "      <td>random forest (grid search)</td>\n",
       "      <td>0.999495</td>\n",
       "      <td>0.902751</td>\n",
       "      <td>33min 11s</td>\n",
       "    </tr>\n",
       "    <tr>\n",
       "      <th>4</th>\n",
       "      <td>decision tree</td>\n",
       "      <td>0.999495</td>\n",
       "      <td>0.840589</td>\n",
       "      <td>20min 33s</td>\n",
       "    </tr>\n",
       "    <tr>\n",
       "      <th>5</th>\n",
       "      <td>gradient boost</td>\n",
       "      <td>0.768792</td>\n",
       "      <td>0.754169</td>\n",
       "      <td>1h 5min 48s</td>\n",
       "    </tr>\n",
       "  </tbody>\n",
       "</table>\n",
       "</div>"
      ],
      "text/plain": [
       "                        models  training accuracy  testing accuracy  \\\n",
       "0                     baseline           0.505957          0.505957   \n",
       "1          logistic regression           0.957181          0.901668   \n",
       "2                random forest           0.999495          0.874594   \n",
       "3  random forest (grid search)           0.999495          0.902751   \n",
       "4                decision tree           0.999495          0.840589   \n",
       "5               gradient boost           0.768792          0.754169   \n",
       "\n",
       "          time  \n",
       "0       998 µs  \n",
       "1         18 s  \n",
       "2     3min 16s  \n",
       "3    33min 11s  \n",
       "4    20min 33s  \n",
       "5  1h 5min 48s  "
      ]
     },
     "execution_count": 44,
     "metadata": {},
     "output_type": "execute_result"
    }
   ],
   "source": [
    "summary"
   ]
  },
  {
   "cell_type": "markdown",
   "id": "european-screening",
   "metadata": {},
   "source": [
    "### Conclusions:\n",
    "Logistic Regression did pretty well, if I didn't care about minimizing false positives, I would use Logistic Regression.\n",
    "However, if I wanted to minimize false positives, I would use Random Forest.\n",
    "\n",
    "To improve the model, I would get rid of spam posts."
   ]
  }
 ],
 "metadata": {
  "kernelspec": {
   "display_name": "Python 3",
   "language": "python",
   "name": "python3"
  },
  "language_info": {
   "codemirror_mode": {
    "name": "ipython",
    "version": 3
   },
   "file_extension": ".py",
   "mimetype": "text/x-python",
   "name": "python",
   "nbconvert_exporter": "python",
   "pygments_lexer": "ipython3",
   "version": "3.8.5"
  }
 },
 "nbformat": 4,
 "nbformat_minor": 5
}
